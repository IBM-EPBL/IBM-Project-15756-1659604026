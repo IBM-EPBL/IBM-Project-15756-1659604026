{
  "nbformat": 4,
  "nbformat_minor": 0,
  "metadata": {
    "colab": {
      "provenance": []
    },
    "kernelspec": {
      "name": "python3",
      "display_name": "Python 3"
    },
    "language_info": {
      "name": "python"
    }
  },
  "cells": [
    {
      "cell_type": "code",
      "execution_count": null,
      "metadata": {
        "id": "eJU5LQCcsiq3"
      },
      "outputs": [],
      "source": [
        "from google.colab import drive\n",
        "drive.mount('/content/drive')"
      ]
    },
    {
      "cell_type": "code",
      "source": [
        "from keras.preprocessing.image import ImageDataGenerator\n",
        "train_datagen = ImageDataGenerator(rescale = 1./255,shear_range= 0.2,horizontal_flip = True)\n",
        "test_datagen = ImageDataGenerator(rescale = 1)"
      ],
      "metadata": {
        "id": "-960IO_ss6fe"
      },
      "execution_count": 6,
      "outputs": []
    },
    {
      "cell_type": "code",
      "source": [
        "x_train = train_datagen.flow_from_directory('fruit-dataset/train',\n",
        "                                            target_size = (128,128),batch_size = 32, class_mode = 'categorical')\n",
        "x_test = test_datagen.flow_from_directory('fruit-dataset/test',\n",
        "                                          target_size = (128,128),batch_size= 32, class_mode = 'categorical')"
      ],
      "metadata": {
        "id": "HM1GQB3sur-r"
      },
      "execution_count": null,
      "outputs": []
    },
    {
      "cell_type": "code",
      "source": [],
      "metadata": {
        "id": "GmZu52ZWvdZN"
      },
      "execution_count": null,
      "outputs": []
    }
  ]
}